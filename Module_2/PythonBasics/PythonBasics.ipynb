{
  "nbformat": 4,
  "nbformat_minor": 0,
  "metadata": {
    "colab": {
      "name": "PythonBasics.ipynb",
      "provenance": []
    },
    "kernelspec": {
      "name": "python3",
      "display_name": "Python 3"
    }
  },
  "cells": [
    {
      "cell_type": "code",
      "metadata": {
        "id": "xeCDSeYRVq3K",
        "colab_type": "code",
        "colab": {
          "base_uri": "https://localhost:8080/",
          "height": 629
        },
        "outputId": "d8a4710f-3255-4577-db97-410f9cd806d6"
      },
      "source": [
        "# Basic Datatypes\n",
        "a = 12 # Python automatically detects datatype will initializing\n",
        "b = 4.0 \n",
        "c = \"Hello, Python!\"\n",
        "d = [a, b, c, [a, b, c]] # Python List datatype is very useful and powerful. Learn more about how to use Lists. Lists can hold any type of data\n",
        "e = (a, b, c) # Python tuple datatype. Learn more about tuples : https://www.geeksforgeeks.org/tuples-in-python/\n",
        "f = set(['Hello','Python!','Hello',1,1,3]) # Set is an inbuilt function which creates a set object with unique values. See difference between TUPLE and LIST\n",
        "g = dict({\"key1\":\"value1\",\"key2\":a}) # Python Dictionary (similar to Json) is very powerful to use. Learn more about Dictionaries in https://www.geeksforgeeks.org/python-dictionary/\n",
        "\n",
        "#---------Print----------\n",
        "print(\"-----------------------------------------\")\n",
        "print(\"Basic Datatypes\")\n",
        "print(\"-----------------------------------------\")\n",
        "print(\"a = \", a,\"\\n\", \"datatype = \", type(a),\"\\n\")\n",
        "print(\"b = \", b,\"\\n\", \"datatype = \", type(b),\"\\n\")\n",
        "print(\"c = \", c,\"\\n\", \"datatype = \", type(c),\"\\n\")\n",
        "print(\"d = \", d,\"\\n\", \"datatype = \", type(d),\"\\n\")\n",
        "print(\"e = \", e,\"\\n\", \"datatype = \", type(e),\"\\n\")\n",
        "print(\"f = \", f,\"\\n\", \"datatype = \", type(f),\"\\n\")\n",
        "print(\"g = \", g,\"\\n\", \"datatype = \", type(g),\"\\n\")\n",
        "\n",
        "#----Accessing values in List, Set, Dictionary----\n",
        "print(\"-----------------------------------------\")\n",
        "print(\"Accessing values in List, Set, Dictionary\")\n",
        "print(\"-----------------------------------------\")\n",
        "print(\"First value in List d - d[0]:\",d[0])\n",
        "print(\"Last value in List d - d[-1]:\",d[-1])\n",
        "print(\"Last before value in List d - d[-2]:\",d[-2])\n",
        "print(\"Since Last value in List d is a List, we can fetch first value of inside list - d[-1][0]: \",d[-1][0],\"\\n\")\n",
        "print(\"First value in tuple e - e[0]:\",e[0],\" (Note: tuple is Immutable) \\n\")\n",
        "print(\"Value of Key1 in Dictionary g : g['key1'] = \", g[\"key1\"], \" --> Datatype :\", type(g[\"key1\"]))\n",
        "print(\"Value of Key2 in Dictionary g : g['key2'] = \", g[\"key2\"], \" --> Datatype :\", type(g[\"key2\"]), \"(Note: Dictionary holds the datatype of values intact)\")\n",
        "print(\"Get all keys in Dictionary g : g.keys() = \", g.keys(), \" --> Datatype :\", type(g.keys()))\n",
        "print(\"Get all values in Dictionary g : g.values() = \", g.values(), \" --> Datatype :\", type(g.values()))"
      ],
      "execution_count": 9,
      "outputs": [
        {
          "output_type": "stream",
          "text": [
            "Basic Datatypes\n",
            "-----------------------------------------\n",
            "a =  12 \n",
            " datatype =  <class 'int'> \n",
            "\n",
            "b =  4.0 \n",
            " datatype =  <class 'float'> \n",
            "\n",
            "c =  Hello, Python! \n",
            " datatype =  <class 'str'> \n",
            "\n",
            "d =  [12, 4.0, 'Hello, Python!', [12, 4.0, 'Hello, Python!']] \n",
            " datatype =  <class 'list'> \n",
            "\n",
            "e =  (12, 4.0, 'Hello, Python!') \n",
            " datatype =  <class 'tuple'> \n",
            "\n",
            "f =  {'Python!', 1, 3, 'Hello'} \n",
            " datatype =  <class 'set'> \n",
            "\n",
            "g =  {'key1': 'value1', 'key2': 12} \n",
            " datatype =  <class 'dict'> \n",
            "\n",
            "Accessing values in List, Set, Dictionary\n",
            "-----------------------------------------\n",
            "First value in List d - d[0]: 12\n",
            "Last value in List d - d[-1]: [12, 4.0, 'Hello, Python!']\n",
            "Last before value in List d - d[-2]: Hello, Python!\n",
            "Since Last value in List d is a List, we can fetch first value of inside list - d[-1][0]:  12 \n",
            "\n",
            "First value in tuple e - e[0]: 12  (Note: tuple is Immutable) \n",
            "\n",
            "Value of Key1 in Dictionary g : g['key1'] =  value1  --> Datatype : <class 'str'>\n",
            "Value of Key2 in Dictionary g : g['key2'] =  12  --> Datatype : <class 'int'> (Note: Dictionary holds the datatype of values intact)\n",
            "Get all keys in Dictionary g : g.keys() =  dict_keys(['key1', 'key2'])  --> Datatype : <class 'dict_keys'>\n",
            "Get all values in Dictionary g : g.values() =  dict_values(['value1', 12])  --> Datatype : <class 'dict_values'>\n"
          ],
          "name": "stdout"
        }
      ]
    },
    {
      "cell_type": "code",
      "metadata": {
        "id": "R-inOl3JXyro",
        "colab_type": "code",
        "colab": {
          "base_uri": "https://localhost:8080/",
          "height": 238
        },
        "outputId": "d6d5ac62-c192-4f66-db7e-70125fdeee3e"
      },
      "source": [
        "# Basic Operators\n",
        "a = 12 \n",
        "b = 4.0\n",
        "c = 4\n",
        "print(\"-----------------------------------------\")\n",
        "print(\"Basic Operators\")\n",
        "print(\"-----------------------------------------\")\n",
        "print(\"Multiply a*b :\", a*b,\" -- Datatype :\", type(a*b))\n",
        "print(\"Multiply a*c :\", a*c,\" -- Datatype :\", type(a*c))\n",
        "print(\"Substraction a-b :\", a-b,\" -- Datatype :\", type(a-b))\n",
        "print(\"Addition a+b :\", a+b,\" -- Datatype :\", type(a+b))\n",
        "print(\"Substraction a-c :\", a-c,\" -- Datatype :\", type(a-c))\n",
        "print(\"Addition a+c :\", a+c,\" -- Datatype :\", type(a+c))\n",
        "print(\"Divide a/b :\", a/b,\" -- Datatype :\", type(a/b))\n",
        "print(\"Divide a//b :\", a//b,\" -- Datatype :\", type(a//b))\n",
        "print(\"Divide a/c :\", a/c,\" -- Datatype :\", type(a/c))\n",
        "print(\"Divide a//c :\", a//c,\" -- Datatype :\", type(a//c))"
      ],
      "execution_count": 13,
      "outputs": [
        {
          "output_type": "stream",
          "text": [
            "-----------------------------------------\n",
            "Basic Operators\n",
            "-----------------------------------------\n",
            "Multiply a*b : 48.0  -- Datatype : <class 'float'>\n",
            "Multiply a*c : 48  -- Datatype : <class 'int'>\n",
            "Substraction a-b : 8.0  -- Datatype : <class 'float'>\n",
            "Addition a+b : 16.0  -- Datatype : <class 'float'>\n",
            "Substraction a-c : 8  -- Datatype : <class 'int'>\n",
            "Addition a+c : 16  -- Datatype : <class 'int'>\n",
            "Divide a/b : 3.0  -- Datatype : <class 'float'>\n",
            "Divide a//b : 3.0  -- Datatype : <class 'float'>\n",
            "Divide a/c : 3.0  -- Datatype : <class 'float'>\n",
            "Divide a//c : 3  -- Datatype : <class 'int'>\n"
          ],
          "name": "stdout"
        }
      ]
    },
    {
      "cell_type": "code",
      "metadata": {
        "id": "KOIf7pZ7c4lh",
        "colab_type": "code",
        "colab": {
          "base_uri": "https://localhost:8080/",
          "height": 493
        },
        "outputId": "580d3998-8563-41e3-d055-8c93ff8ef17d"
      },
      "source": [
        "# This is an escape sequence.\n",
        "string = \"This is a \\\"python notebook\\\" \"\n",
        "print(\"string : \",string, \"\\n\")\n",
        "\n",
        "#Accessing String by Index\n",
        "print(\"-----------------------------------------\")\n",
        "print(\"Accessing String by Index\")\n",
        "print(\"-----------------------------------------\")\n",
        "print(\"Value at Index 2 : \",string[2], \"\\n\")\n",
        "\n",
        "#Slicing a string\n",
        "print(\"-----------------------------------------\")\n",
        "print(\"Slicing a string\")\n",
        "print(\"-----------------------------------------\")\n",
        "print(\"Sub string from Index 10 to 27 : \",string[10:27])\n",
        "print(\"Sub string from Index 0 to 4 : \",string[0:4], \"\\n\")\n",
        "\n",
        "#Reversing a string\n",
        "print(\"-----------------------------------------\")\n",
        "print(\"Reversing a string\")\n",
        "print(\"-----------------------------------------\")\n",
        "print(\"Reversed String : \",string[::-1], \"\\n\")\n",
        "\n",
        "#Splitting a string\n",
        "print(\"-----------------------------------------\")\n",
        "print(\"Splitting a string\")\n",
        "print(\"-----------------------------------------\")\n",
        "print(\"Splitting string at space : \",string.split(' '), \"\\n\")\n",
        "\n",
        "#Splitting a string\n",
        "print(\"-----------------------------------------\")\n",
        "print(\"Replacing a value in string\")\n",
        "print(\"-----------------------------------------\")\n",
        "print(\"Replacing a value in string : \",string.replace(' ', '_'), \"\\n\")\n",
        "\n",
        "# Learn more about String manipulations"
      ],
      "execution_count": 21,
      "outputs": [
        {
          "output_type": "stream",
          "text": [
            "string :  This is a \"python notebook\"  \n",
            "\n",
            "-----------------------------------------\n",
            "Accessing String by Index\n",
            "-----------------------------------------\n",
            "Value at Index 2 :  i \n",
            "\n",
            "-----------------------------------------\n",
            "Slicing a string\n",
            "-----------------------------------------\n",
            "Sub string from Index 10 to 27 :  \"python notebook\"\n",
            "Sub string from Index 0 to 4 :  This \n",
            "\n",
            "-----------------------------------------\n",
            "Reversing a string\n",
            "-----------------------------------------\n",
            "Reversed String :   \"koobeton nohtyp\" a si sihT \n",
            "\n",
            "-----------------------------------------\n",
            "Splitting a string\n",
            "-----------------------------------------\n",
            "Splitting string at space :  ['This', 'is', 'a', '\"python', 'notebook\"', ''] \n",
            "\n",
            "-----------------------------------------\n",
            "Replacing a value in string\n",
            "-----------------------------------------\n",
            "Splitting a value in string :  This_is_a_\"python_notebook\"_ \n",
            "\n"
          ],
          "name": "stdout"
        }
      ]
    },
    {
      "cell_type": "code",
      "metadata": {
        "id": "m4rhhhYpgHdl",
        "colab_type": "code",
        "colab": {
          "base_uri": "https://localhost:8080/",
          "height": 255
        },
        "outputId": "ae5d9a76-0235-4ee2-e796-59f2f79dca39"
      },
      "source": [
        "# Declaring a dictionary\n",
        "\n",
        "dictionary = {}\n",
        "dictionary = {'Name': 'Tanu', 'Sex': 'Male', 'Age': 23}\n",
        "print(dictionary,\"\\n\", type(dictionary), \"\\n\")\n",
        "\n",
        "# Deleting an element\n",
        "print(\"-----------------------------------------\")\n",
        "print(\"Deleting an element\")\n",
        "print(\"-----------------------------------------\")\n",
        "\n",
        "del dictionary['Name']\n",
        "print(dictionary, \"\\n\")\n",
        "\n",
        "# Popping an item\n",
        "print(\"-----------------------------------------\")\n",
        "print(\"Popping an item\")\n",
        "print(\"-----------------------------------------\")\n",
        "\n",
        "print(dictionary.popitem(), \"\\n\")\n",
        "\n",
        "print(\"Final dictionary : \",dictionary)"
      ],
      "execution_count": 24,
      "outputs": [
        {
          "output_type": "stream",
          "text": [
            "{'Name': 'Tanu', 'Sex': 'Male', 'Age': 23} \n",
            " <class 'dict'> \n",
            "\n",
            "-----------------------------------------\n",
            "Deleting an element\n",
            "-----------------------------------------\n",
            "{'Sex': 'Male', 'Age': 23} \n",
            "\n",
            "-----------------------------------------\n",
            "Popping an item\n",
            "-----------------------------------------\n",
            "('Age', 23) \n",
            "\n",
            "{'Sex': 'Male'}\n"
          ],
          "name": "stdout"
        }
      ]
    },
    {
      "cell_type": "code",
      "metadata": {
        "id": "4nWwSNCwjDyK",
        "colab_type": "code",
        "colab": {}
      },
      "source": [
        ""
      ],
      "execution_count": 0,
      "outputs": []
    }
  ]
}