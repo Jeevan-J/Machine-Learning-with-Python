{
  "nbformat": 4,
  "nbformat_minor": 0,
  "metadata": {
    "colab": {
      "name": "03-Fucntions and Classes.ipynb",
      "provenance": []
    },
    "kernelspec": {
      "name": "python3",
      "display_name": "Python 3"
    }
  },
  "cells": [
    {
      "cell_type": "markdown",
      "metadata": {
        "id": "8Bt8S-h_lvrH",
        "colab_type": "text"
      },
      "source": [
        "<b>Python Functions and Classes</b>\n",
        "<br>In this section, we will learn about how to define functions and classes.\n",
        "\n",
        "<br>\"def\" is the keyword used to define functions in Python.\n",
        "<br>\"class\" is the keyword used to define classes in Python."
      ]
    },
    {
      "cell_type": "markdown",
      "metadata": {
        "id": "Zyhgf4ZKn7ql",
        "colab_type": "text"
      },
      "source": [
        "1. Simple Function"
      ]
    },
    {
      "cell_type": "code",
      "metadata": {
        "id": "l-BtwkYpmFPO",
        "colab_type": "code",
        "colab": {
          "base_uri": "https://localhost:8080/",
          "height": 34
        },
        "outputId": "fc13d53b-24a4-447f-f202-2e903072e46b"
      },
      "source": [
        "def firstFunction():\n",
        "  print(\"Hello, Python!\")\n",
        "\n",
        "firstFunction()"
      ],
      "execution_count": 3,
      "outputs": [
        {
          "output_type": "stream",
          "text": [
            "Hello, Python!\n"
          ],
          "name": "stdout"
        }
      ]
    },
    {
      "cell_type": "markdown",
      "metadata": {
        "id": "IIPhhSwHoA9U",
        "colab_type": "text"
      },
      "source": [
        "2. Function with parameters\n"
      ]
    },
    {
      "cell_type": "code",
      "metadata": {
        "id": "i79IISI8mnVh",
        "colab_type": "code",
        "colab": {
          "base_uri": "https://localhost:8080/",
          "height": 231
        },
        "outputId": "ab62b90c-c7f6-498d-c618-5422d7822c9d"
      },
      "source": [
        "def secondFunction1(name):\n",
        "  print(\"Hello,\" + name +\"!\")\n",
        "\n",
        "secondFunction1(\"ML\")\n",
        "\n",
        "def secondFunction2(fname, lname):\n",
        "  print(\"Hello,\" + fname +\"!\")\n",
        "\n",
        "secondFunction2(\"Python\",\"ML\")\n",
        "\n",
        "print(\"You have to provide parameter/argument, if not error occurs\")\n",
        "secondFunction1()"
      ],
      "execution_count": 10,
      "outputs": [
        {
          "output_type": "stream",
          "text": [
            "Hello,ML!\n",
            "Hello,Python!\n"
          ],
          "name": "stdout"
        },
        {
          "output_type": "error",
          "ename": "TypeError",
          "evalue": "ignored",
          "traceback": [
            "\u001b[0;31m---------------------------------------------------------------------------\u001b[0m",
            "\u001b[0;31mTypeError\u001b[0m                                 Traceback (most recent call last)",
            "\u001b[0;32m<ipython-input-10-b6909dc44b5b>\u001b[0m in \u001b[0;36m<module>\u001b[0;34m()\u001b[0m\n\u001b[1;32m      9\u001b[0m \u001b[0msecondFunction2\u001b[0m\u001b[0;34m(\u001b[0m\u001b[0;34m\"Python\"\u001b[0m\u001b[0;34m,\u001b[0m\u001b[0;34m\"ML\"\u001b[0m\u001b[0;34m)\u001b[0m\u001b[0;34m\u001b[0m\u001b[0;34m\u001b[0m\u001b[0m\n\u001b[1;32m     10\u001b[0m \u001b[0;34m\u001b[0m\u001b[0m\n\u001b[0;32m---> 11\u001b[0;31m \u001b[0msecondFunction1\u001b[0m\u001b[0;34m(\u001b[0m\u001b[0;34m)\u001b[0m\u001b[0;34m\u001b[0m\u001b[0;34m\u001b[0m\u001b[0m\n\u001b[0m",
            "\u001b[0;31mTypeError\u001b[0m: secondFunction1() missing 1 required positional argument: 'name'"
          ]
        }
      ]
    },
    {
      "cell_type": "markdown",
      "metadata": {
        "id": "Ck_mhFGtocYM",
        "colab_type": "text"
      },
      "source": [
        "3. Function with default parameter value"
      ]
    },
    {
      "cell_type": "code",
      "metadata": {
        "id": "4RkRpvrwmpqD",
        "colab_type": "code",
        "colab": {
          "base_uri": "https://localhost:8080/",
          "height": 51
        },
        "outputId": "5b758b1c-3ca0-429f-ab06-321194b53b38"
      },
      "source": [
        "def thirdFunction(name=\"Python\"):\n",
        "  print(\"Hello,\" + name +\"!\")\n",
        "\n",
        "thirdFunction(\"ML\")\n",
        "thirdFunction()"
      ],
      "execution_count": 5,
      "outputs": [
        {
          "output_type": "stream",
          "text": [
            "Hello,ML!\n",
            "Hello,Python!\n"
          ],
          "name": "stdout"
        }
      ]
    },
    {
      "cell_type": "markdown",
      "metadata": {
        "id": "Min7AKTjouF0",
        "colab_type": "text"
      },
      "source": [
        "4. Function with arbitary parameters\n"
      ]
    },
    {
      "cell_type": "code",
      "metadata": {
        "id": "_Uz8bffQndQs",
        "colab_type": "code",
        "colab": {
          "base_uri": "https://localhost:8080/",
          "height": 34
        },
        "outputId": "152c7d1d-a3e0-4f8a-d17b-2147f8287ced"
      },
      "source": [
        "def fourthFunction(*kargs):\n",
        "  print(\"Hello,\" + kargs[1] +\"!\")\n",
        "\n",
        "fourthFunction(\"ML\",\"Python\")"
      ],
      "execution_count": 8,
      "outputs": [
        {
          "output_type": "stream",
          "text": [
            "Hello,Python!\n"
          ],
          "name": "stdout"
        }
      ]
    },
    {
      "cell_type": "markdown",
      "metadata": {
        "id": "mLbafPbUo3gM",
        "colab_type": "text"
      },
      "source": [
        "5. Function with arbitary parameters with keys and values"
      ]
    },
    {
      "cell_type": "code",
      "metadata": {
        "id": "zslAjsiUnvMb",
        "colab_type": "code",
        "colab": {
          "base_uri": "https://localhost:8080/",
          "height": 34
        },
        "outputId": "6a8f8c92-e87b-4955-c86b-ef884a90fa9a"
      },
      "source": [
        "def fourthFunction(**kargs):\n",
        "  print(\"Hello,\" + kargs[\"fname\"]+\"-\"+ kargs[\"lname\"] +\"!\")\n",
        "\n",
        "fourthFunction(lname=\"ML\",fname=\"Python\")"
      ],
      "execution_count": 12,
      "outputs": [
        {
          "output_type": "stream",
          "text": [
            "Hello,Python-ML!\n"
          ],
          "name": "stdout"
        }
      ]
    },
    {
      "cell_type": "markdown",
      "metadata": {
        "id": "rP0IIBwIpoC1",
        "colab_type": "text"
      },
      "source": [
        "<b>Classes</b>\n",
        "<br> <b>Simple Class</b>"
      ]
    },
    {
      "cell_type": "code",
      "metadata": {
        "id": "4WlTMPDXpJh6",
        "colab_type": "code",
        "colab": {
          "base_uri": "https://localhost:8080/",
          "height": 51
        },
        "outputId": "ef626213-0878-4587-abdc-e8120cbe2234"
      },
      "source": [
        "class Simple:\n",
        "  x = 10\n",
        "  y = \"Hello, Python\"\n",
        "\n",
        "ans = Simple() # Instance of python class Simple\n",
        "print(\"x: \", ans.x)\n",
        "print(\"y: \", ans.y)"
      ],
      "execution_count": 15,
      "outputs": [
        {
          "output_type": "stream",
          "text": [
            "x:  10\n",
            "y:  Hello, Python\n"
          ],
          "name": "stdout"
        }
      ]
    },
    {
      "cell_type": "markdown",
      "metadata": {
        "id": "6Ku6MrBCrR5c",
        "colab_type": "text"
      },
      "source": [
        "<b>Class with functions</b>\n",
        "<br> In python, classes have 'self' parameter that holds all class variables across class functions. So every function in class should be passed with 'self' parameter"
      ]
    },
    {
      "cell_type": "code",
      "metadata": {
        "id": "rSa9-bDKp9ZC",
        "colab_type": "code",
        "colab": {
          "base_uri": "https://localhost:8080/",
          "height": 34
        },
        "outputId": "6e1e983e-63a8-40c1-a805-c1ee20d94426"
      },
      "source": [
        "class class1:\n",
        "  def __init__(self):\n",
        "    self.a = 10\n",
        "    self.b = 24\n",
        "  def multiply(self):\n",
        "    return self.a*self.b\n",
        "\n",
        "obj = class1()\n",
        "obj.multiply()"
      ],
      "execution_count": 22,
      "outputs": [
        {
          "output_type": "execute_result",
          "data": {
            "text/plain": [
              "240"
            ]
          },
          "metadata": {
            "tags": []
          },
          "execution_count": 22
        }
      ]
    },
    {
      "cell_type": "code",
      "metadata": {
        "id": "D3Evd-IjrbBb",
        "colab_type": "code",
        "colab": {
          "base_uri": "https://localhost:8080/",
          "height": 34
        },
        "outputId": "e837ce75-5de2-4f49-ef21-0f53c72f84da"
      },
      "source": [
        "class class2:\n",
        "  def __init__(self, a, b):\n",
        "    self.a = a\n",
        "    self.b = b\n",
        "  def multiply(self):\n",
        "    return self.a*self.b\n",
        "\n",
        "obj = class2(10,25) #Instantiate class with a and b variables\n",
        "obj.multiply()"
      ],
      "execution_count": 23,
      "outputs": [
        {
          "output_type": "execute_result",
          "data": {
            "text/plain": [
              "250"
            ]
          },
          "metadata": {
            "tags": []
          },
          "execution_count": 23
        }
      ]
    },
    {
      "cell_type": "code",
      "metadata": {
        "id": "6e-WIuNGsqNq",
        "colab_type": "code",
        "colab": {
          "base_uri": "https://localhost:8080/",
          "height": 68
        },
        "outputId": "1ed58945-69c0-4b9b-906d-c78185d54371"
      },
      "source": [
        "class operations:\n",
        "  def __init__(self, a, b):\n",
        "    self.a = a\n",
        "    self.b = b\n",
        "  def multiply(self):\n",
        "    return self.a*self.b\n",
        "  def add(self):\n",
        "    return self.a+self.b\n",
        "  def subs(self):\n",
        "    return self.a-self.b\n",
        "\n",
        "obj = operations(10,12) #Instantiate class with a and b variables\n",
        "print(\"Multiply :\",obj.multiply())\n",
        "print(\"Add :\",obj.add())\n",
        "print(\"Subs :\",obj.subs())"
      ],
      "execution_count": 27,
      "outputs": [
        {
          "output_type": "stream",
          "text": [
            "Multiply : 120\n",
            "Add : 22\n",
            "Subs : -2\n"
          ],
          "name": "stdout"
        }
      ]
    },
    {
      "cell_type": "markdown",
      "metadata": {
        "id": "GhlRKwzHtyvF",
        "colab_type": "text"
      },
      "source": [
        "More on classes and objects : https://www.hackerearth.com/practice/python/object-oriented-programming/classes-and-objects-i/tutorial/"
      ]
    },
    {
      "cell_type": "code",
      "metadata": {
        "id": "V6uW4R8DtAkK",
        "colab_type": "code",
        "colab": {}
      },
      "source": [
        ""
      ],
      "execution_count": 0,
      "outputs": []
    }
  ]
}
